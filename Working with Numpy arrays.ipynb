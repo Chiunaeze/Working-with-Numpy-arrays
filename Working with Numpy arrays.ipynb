{
 "cells": [
  {
   "cell_type": "markdown",
   "id": "72b3e886-567a-4d8a-aa8c-38f8b435ca64",
   "metadata": {},
   "source": [
    "# Working with numpy arrays"
   ]
  },
  {
   "cell_type": "code",
   "execution_count": 2,
   "id": "549de546-8c83-4f80-a1d9-049ffeca7f3d",
   "metadata": {},
   "outputs": [],
   "source": [
    "import numpy as np"
   ]
  },
  {
   "cell_type": "markdown",
   "id": "b8b64e58-6af8-47ff-9049-8508c0d42e53",
   "metadata": {},
   "source": [
    "# ARRAYS"
   ]
  },
  {
   "cell_type": "code",
   "execution_count": 3,
   "id": "d988bc11-cd11-4bca-a0c5-e865cf38c33a",
   "metadata": {},
   "outputs": [
    {
     "data": {
      "text/plain": [
       "list"
      ]
     },
     "execution_count": 3,
     "metadata": {},
     "output_type": "execute_result"
    }
   ],
   "source": [
    "myList = [1, 2, 3, 4, 5, 6, 7]\n",
    "myList\n",
    "type(myList)"
   ]
  },
  {
   "cell_type": "code",
   "execution_count": 4,
   "id": "7599769b-732f-4113-8e0f-764e5d38fd66",
   "metadata": {},
   "outputs": [
    {
     "data": {
      "text/plain": [
       "array([1, 2, 3, 4, 5, 6, 7])"
      ]
     },
     "execution_count": 4,
     "metadata": {},
     "output_type": "execute_result"
    }
   ],
   "source": [
    "np.array(myList)"
   ]
  },
  {
   "cell_type": "code",
   "execution_count": 5,
   "id": "d19e1e27-fb8b-47b9-8ad8-0ac08be4f370",
   "metadata": {},
   "outputs": [],
   "source": [
    "arr = np.array(myList)"
   ]
  },
  {
   "cell_type": "code",
   "execution_count": 8,
   "id": "bbf315e1-6f30-4975-aba6-0fe235dd4445",
   "metadata": {},
   "outputs": [
    {
     "data": {
      "text/plain": [
       "numpy.ndarray"
      ]
     },
     "execution_count": 8,
     "metadata": {},
     "output_type": "execute_result"
    }
   ],
   "source": [
    "type(arr)"
   ]
  },
  {
   "cell_type": "code",
   "execution_count": 7,
   "id": "c998b0b2-30f4-4683-8e13-047a6a2b68db",
   "metadata": {},
   "outputs": [],
   "source": [
    "nested = [[1, 2, 3], [4, 5, 6], [7, 8, 9]]"
   ]
  },
  {
   "cell_type": "code",
   "execution_count": 8,
   "id": "992aeaec-42f3-4163-a95e-dfef026e8f9b",
   "metadata": {},
   "outputs": [
    {
     "data": {
      "text/plain": [
       "list"
      ]
     },
     "execution_count": 8,
     "metadata": {},
     "output_type": "execute_result"
    }
   ],
   "source": [
    "type(nested)"
   ]
  },
  {
   "cell_type": "code",
   "execution_count": 9,
   "id": "7717804f-08cf-48fd-a6a4-8a5d04ca82ca",
   "metadata": {},
   "outputs": [
    {
     "data": {
      "text/plain": [
       "array([[1, 2, 3],\n",
       "       [4, 5, 6],\n",
       "       [7, 8, 9]])"
      ]
     },
     "execution_count": 9,
     "metadata": {},
     "output_type": "execute_result"
    }
   ],
   "source": [
    "np.array(nested)"
   ]
  },
  {
   "cell_type": "code",
   "execution_count": 10,
   "id": "266b7b3b-2de9-4690-918f-05325596f72e",
   "metadata": {},
   "outputs": [],
   "source": [
    "tup = (1, 2, 3, 4, 5)"
   ]
  },
  {
   "cell_type": "code",
   "execution_count": 11,
   "id": "5081d0cd-4f5b-4bb0-88a4-e1da1b1c3fa8",
   "metadata": {},
   "outputs": [
    {
     "data": {
      "text/plain": [
       "tuple"
      ]
     },
     "execution_count": 11,
     "metadata": {},
     "output_type": "execute_result"
    }
   ],
   "source": [
    "type(tup)"
   ]
  },
  {
   "cell_type": "code",
   "execution_count": 12,
   "id": "c155f8f1-ad38-438c-b912-65fb6014a94b",
   "metadata": {},
   "outputs": [
    {
     "data": {
      "text/plain": [
       "array([1, 2, 3, 4, 5])"
      ]
     },
     "execution_count": 12,
     "metadata": {},
     "output_type": "execute_result"
    }
   ],
   "source": [
    "np.array(tup)"
   ]
  },
  {
   "cell_type": "code",
   "execution_count": 19,
   "id": "28802e54-cc61-436a-9276-89863bc8eae5",
   "metadata": {},
   "outputs": [],
   "source": [
    "# creating numpy array using a set\n",
    "\n",
    "set1 = {1, 2, 2, 3, 3, 4, 5, 6, 6, 6}"
   ]
  },
  {
   "cell_type": "code",
   "execution_count": 20,
   "id": "d73189b4-6edf-4f3d-8fc1-35be4e27aa4d",
   "metadata": {},
   "outputs": [
    {
     "data": {
      "text/plain": [
       "{1, 2, 3, 4, 5, 6}"
      ]
     },
     "execution_count": 20,
     "metadata": {},
     "output_type": "execute_result"
    }
   ],
   "source": [
    "set1"
   ]
  },
  {
   "cell_type": "code",
   "execution_count": 21,
   "id": "8e7d2945-88ea-43cc-9f74-8adb6b72b733",
   "metadata": {},
   "outputs": [
    {
     "data": {
      "text/plain": [
       "array({1, 2, 3, 4, 5, 6}, dtype=object)"
      ]
     },
     "execution_count": 21,
     "metadata": {},
     "output_type": "execute_result"
    }
   ],
   "source": [
    "np.array(set1)"
   ]
  },
  {
   "cell_type": "code",
   "execution_count": 22,
   "id": "9b1f160e-0d8c-4c29-8dd0-7354782f402d",
   "metadata": {},
   "outputs": [
    {
     "data": {
      "text/plain": [
       "numpy.ndarray"
      ]
     },
     "execution_count": 22,
     "metadata": {},
     "output_type": "execute_result"
    }
   ],
   "source": [
    "type(np.array(set1))"
   ]
  },
  {
   "cell_type": "markdown",
   "id": "47d8650c-ff60-4658-9b31-0881f31f4d7a",
   "metadata": {},
   "source": [
    "# Identity matrix"
   ]
  },
  {
   "cell_type": "code",
   "execution_count": 23,
   "id": "99271fb0-c959-4c88-a275-7784705a0ecc",
   "metadata": {},
   "outputs": [
    {
     "data": {
      "text/plain": [
       "array([[1., 0., 0., 0., 0.],\n",
       "       [0., 1., 0., 0., 0.],\n",
       "       [0., 0., 1., 0., 0.],\n",
       "       [0., 0., 0., 1., 0.],\n",
       "       [0., 0., 0., 0., 1.]])"
      ]
     },
     "execution_count": 23,
     "metadata": {},
     "output_type": "execute_result"
    }
   ],
   "source": [
    "np.eye(5)"
   ]
  },
  {
   "cell_type": "code",
   "execution_count": 24,
   "id": "dac466c0-62fa-43e9-a6c8-1884e2962f79",
   "metadata": {},
   "outputs": [
    {
     "data": {
      "text/plain": [
       "numpy.ndarray"
      ]
     },
     "execution_count": 24,
     "metadata": {},
     "output_type": "execute_result"
    }
   ],
   "source": [
    "type(np.eye(5))"
   ]
  },
  {
   "cell_type": "code",
   "execution_count": 25,
   "id": "39351b03-4140-4382-980f-e90f388e6c9d",
   "metadata": {},
   "outputs": [
    {
     "data": {
      "text/plain": [
       "[0, 1, 2, 3, 4, 5, 6, 7, 8, 9, 10, 11, 12, 13, 14, 15, 16, 17, 18, 19]"
      ]
     },
     "execution_count": 25,
     "metadata": {},
     "output_type": "execute_result"
    }
   ],
   "source": [
    "list(range(20))"
   ]
  },
  {
   "cell_type": "code",
   "execution_count": 26,
   "id": "791e302b-4fd3-4004-bf87-702989f88b4a",
   "metadata": {},
   "outputs": [
    {
     "data": {
      "text/plain": [
       "array([ 0,  1,  2,  3,  4,  5,  6,  7,  8,  9, 10, 11, 12, 13, 14, 15, 16,\n",
       "       17, 18, 19])"
      ]
     },
     "execution_count": 26,
     "metadata": {},
     "output_type": "execute_result"
    }
   ],
   "source": [
    "np.arange(20)"
   ]
  },
  {
   "cell_type": "code",
   "execution_count": 27,
   "id": "9342e180-ce85-4cc1-95ad-b2c35690d0a8",
   "metadata": {},
   "outputs": [
    {
     "data": {
      "text/plain": [
       "numpy.ndarray"
      ]
     },
     "execution_count": 27,
     "metadata": {},
     "output_type": "execute_result"
    }
   ],
   "source": [
    "type(np.arange(20))"
   ]
  },
  {
   "cell_type": "code",
   "execution_count": 39,
   "id": "39af2603-18de-45d1-a367-bd54974d2c27",
   "metadata": {},
   "outputs": [
    {
     "name": "stdout",
     "output_type": "stream",
     "text": [
      "49995000\n"
     ]
    }
   ],
   "source": [
    "result = 0\n",
    "for i in range(10000):\n",
    "    result += i\n",
    "print(result)"
   ]
  },
  {
   "cell_type": "code",
   "execution_count": 41,
   "id": "814761b8-1d6b-4b7c-9018-0179fc1aa119",
   "metadata": {},
   "outputs": [
    {
     "data": {
      "text/plain": [
       "49995000"
      ]
     },
     "execution_count": 41,
     "metadata": {},
     "output_type": "execute_result"
    }
   ],
   "source": [
    "np.arange(10000).sum()"
   ]
  },
  {
   "cell_type": "code",
   "execution_count": 50,
   "id": "b561bd73-4193-4869-92d7-89b35cd90621",
   "metadata": {},
   "outputs": [
    {
     "data": {
      "text/plain": [
       "array([0.        , 0.10204082, 0.20408163, 0.30612245, 0.40816327,\n",
       "       0.51020408, 0.6122449 , 0.71428571, 0.81632653, 0.91836735,\n",
       "       1.02040816, 1.12244898, 1.2244898 , 1.32653061, 1.42857143,\n",
       "       1.53061224, 1.63265306, 1.73469388, 1.83673469, 1.93877551,\n",
       "       2.04081633, 2.14285714, 2.24489796, 2.34693878, 2.44897959,\n",
       "       2.55102041, 2.65306122, 2.75510204, 2.85714286, 2.95918367,\n",
       "       3.06122449, 3.16326531, 3.26530612, 3.36734694, 3.46938776,\n",
       "       3.57142857, 3.67346939, 3.7755102 , 3.87755102, 3.97959184,\n",
       "       4.08163265, 4.18367347, 4.28571429, 4.3877551 , 4.48979592,\n",
       "       4.59183673, 4.69387755, 4.79591837, 4.89795918, 5.        ])"
      ]
     },
     "execution_count": 50,
     "metadata": {},
     "output_type": "execute_result"
    }
   ],
   "source": [
    "np.linspace(0, 5)"
   ]
  },
  {
   "cell_type": "code",
   "execution_count": 51,
   "id": "d74e4d46-982c-41b6-9463-7b199b951d5e",
   "metadata": {},
   "outputs": [
    {
     "data": {
      "text/plain": [
       "array([[0., 0., 0., 0.],\n",
       "       [0., 0., 0., 0.],\n",
       "       [0., 0., 0., 0.]])"
      ]
     },
     "execution_count": 51,
     "metadata": {},
     "output_type": "execute_result"
    }
   ],
   "source": [
    "np.zeros((3, 4))"
   ]
  },
  {
   "cell_type": "code",
   "execution_count": 54,
   "id": "f3a53af0-b118-446e-99bd-cfecb1eb829e",
   "metadata": {},
   "outputs": [
    {
     "data": {
      "text/plain": [
       "array([[1, 2, 3],\n",
       "       [4, 5, 6],\n",
       "       [7, 8, 9]])"
      ]
     },
     "execution_count": 54,
     "metadata": {},
     "output_type": "execute_result"
    }
   ],
   "source": [
    "arr = np.array(nested)\n",
    "arr"
   ]
  },
  {
   "cell_type": "code",
   "execution_count": 55,
   "id": "3ba5ec83-775e-46b5-9223-58227e42cf8a",
   "metadata": {},
   "outputs": [
    {
     "data": {
      "text/plain": [
       "2"
      ]
     },
     "execution_count": 55,
     "metadata": {},
     "output_type": "execute_result"
    }
   ],
   "source": [
    "# checking attributes\n",
    "arr.ndim"
   ]
  },
  {
   "cell_type": "code",
   "execution_count": 58,
   "id": "eac278c5-3b31-49b2-8093-7053ef3d721d",
   "metadata": {},
   "outputs": [
    {
     "data": {
      "text/plain": [
       "1"
      ]
     },
     "execution_count": 58,
     "metadata": {},
     "output_type": "execute_result"
    }
   ],
   "source": [
    "arr1 = np.array([1, 2, 3])\n",
    "arr1.ndim"
   ]
  },
  {
   "cell_type": "code",
   "execution_count": 59,
   "id": "6326178f-614c-4b7b-b0c7-9472a871b84d",
   "metadata": {},
   "outputs": [
    {
     "data": {
      "text/plain": [
       "9"
      ]
     },
     "execution_count": 59,
     "metadata": {},
     "output_type": "execute_result"
    }
   ],
   "source": [
    "arr.size"
   ]
  },
  {
   "cell_type": "code",
   "execution_count": 60,
   "id": "031cc168-9c78-4265-b8ca-7c2920009867",
   "metadata": {},
   "outputs": [
    {
     "data": {
      "text/plain": [
       "(3, 3)"
      ]
     },
     "execution_count": 60,
     "metadata": {},
     "output_type": "execute_result"
    }
   ],
   "source": [
    "arr.shape"
   ]
  },
  {
   "cell_type": "code",
   "execution_count": 61,
   "id": "079deaf8-5ef2-4fc7-bbf6-94c67f1c08bf",
   "metadata": {},
   "outputs": [
    {
     "data": {
      "text/plain": [
       "(3,)"
      ]
     },
     "execution_count": 61,
     "metadata": {},
     "output_type": "execute_result"
    }
   ],
   "source": [
    "arr1.shape"
   ]
  },
  {
   "cell_type": "code",
   "execution_count": 62,
   "id": "7682f58f-09bf-42b4-87b5-43931100bb17",
   "metadata": {},
   "outputs": [
    {
     "data": {
      "text/plain": [
       "3"
      ]
     },
     "execution_count": 62,
     "metadata": {},
     "output_type": "execute_result"
    }
   ],
   "source": [
    "arr1.size"
   ]
  },
  {
   "cell_type": "markdown",
   "id": "85db5ab4-027b-41ae-b7f8-6811ca115731",
   "metadata": {},
   "source": [
    "# Numpy boolean indexing"
   ]
  },
  {
   "cell_type": "code",
   "execution_count": 7,
   "id": "366e30f5-5c0c-4bd2-98ea-68e6bf9cdafe",
   "metadata": {},
   "outputs": [
    {
     "data": {
      "text/plain": [
       "array([ 0,  1,  2,  3,  4,  5,  6,  7,  8,  9, 10, 11, 12, 13, 14, 15, 16,\n",
       "       17, 18])"
      ]
     },
     "execution_count": 7,
     "metadata": {},
     "output_type": "execute_result"
    }
   ],
   "source": [
    "arr = np.arange(19)\n",
    "arr"
   ]
  },
  {
   "cell_type": "code",
   "execution_count": 13,
   "id": "67834b4f-493c-4935-b19d-c5b24039a085",
   "metadata": {},
   "outputs": [
    {
     "data": {
      "text/plain": [
       "array([ True,  True, False, False, False, False, False, False, False,\n",
       "       False, False, False, False, False, False, False, False, False,\n",
       "       False])"
      ]
     },
     "execution_count": 13,
     "metadata": {},
     "output_type": "execute_result"
    }
   ],
   "source": [
    "# filter elements based on a condition\n",
    "\n",
    "arr<2"
   ]
  },
  {
   "cell_type": "code",
   "execution_count": 14,
   "id": "1e8b9854-1dba-41a0-9966-df79805b37fc",
   "metadata": {},
   "outputs": [
    {
     "data": {
      "text/plain": [
       "array([False, False, False, False, False, False,  True,  True,  True,\n",
       "        True,  True,  True,  True,  True,  True,  True,  True,  True,\n",
       "        True])"
      ]
     },
     "execution_count": 14,
     "metadata": {},
     "output_type": "execute_result"
    }
   ],
   "source": [
    "arr>5"
   ]
  },
  {
   "cell_type": "code",
   "execution_count": 16,
   "id": "cfae5639-d39b-48ce-a62a-1696645e3c42",
   "metadata": {},
   "outputs": [
    {
     "data": {
      "text/plain": [
       "array([ 6,  7,  8,  9, 10, 11, 12, 13, 14, 15, 16, 17, 18])"
      ]
     },
     "execution_count": 16,
     "metadata": {},
     "output_type": "execute_result"
    }
   ],
   "source": [
    "#boolean masking\n",
    "arr[arr>5]"
   ]
  },
  {
   "cell_type": "code",
   "execution_count": 18,
   "id": "6441c0cb-e95b-41e2-ae33-bfd6b3f15282",
   "metadata": {},
   "outputs": [
    {
     "data": {
      "text/plain": [
       "20"
      ]
     },
     "execution_count": 18,
     "metadata": {},
     "output_type": "execute_result"
    }
   ],
   "source": [
    "arr1=np.random.randint(20, 40)\n",
    "arr1"
   ]
  },
  {
   "cell_type": "code",
   "execution_count": 23,
   "id": "85c20caf-f44c-4337-90ec-dc75e6428229",
   "metadata": {},
   "outputs": [
    {
     "data": {
      "text/plain": [
       "array([[ 0,  1,  2,  3,  4,  5,  6,  7],\n",
       "       [ 8,  9, 10, 11, 12, 13, 14, 15],\n",
       "       [16, 17, 18, 19, 20, 21, 22, 23],\n",
       "       [24, 25, 26, 27, 28, 29, 30, 31],\n",
       "       [32, 33, 34, 35, 36, 37, 38, 39]])"
      ]
     },
     "execution_count": 23,
     "metadata": {},
     "output_type": "execute_result"
    }
   ],
   "source": [
    "arr1=np.arange(40).reshape((5, 8))\n",
    "arr1"
   ]
  },
  {
   "cell_type": "code",
   "execution_count": 26,
   "id": "9124c781-fdf6-4e91-95da-ea7c45553be6",
   "metadata": {},
   "outputs": [
    {
     "data": {
      "text/plain": [
       "array([[False, False, False, False, False, False, False, False],\n",
       "       [False, False, False,  True,  True,  True,  True,  True],\n",
       "       [ True,  True,  True,  True,  True,  True,  True,  True],\n",
       "       [ True,  True,  True,  True,  True,  True,  True,  True],\n",
       "       [ True,  True,  True,  True,  True,  True,  True,  True]])"
      ]
     },
     "execution_count": 26,
     "metadata": {},
     "output_type": "execute_result"
    }
   ],
   "source": [
    "arr1>10"
   ]
  },
  {
   "cell_type": "code",
   "execution_count": 27,
   "id": "4c4febb6-f9b8-49dc-969f-19213f73cd2c",
   "metadata": {},
   "outputs": [
    {
     "data": {
      "text/plain": [
       "array([11, 12, 13, 14, 15, 16, 17, 18, 19, 20, 21, 22, 23, 24, 25, 26, 27,\n",
       "       28, 29, 30, 31, 32, 33, 34, 35, 36, 37, 38, 39])"
      ]
     },
     "execution_count": 27,
     "metadata": {},
     "output_type": "execute_result"
    }
   ],
   "source": [
    "arr1[arr1>10]"
   ]
  },
  {
   "cell_type": "code",
   "execution_count": 34,
   "id": "04a6d762-e097-4a3a-a936-b84225b5eb6d",
   "metadata": {},
   "outputs": [
    {
     "data": {
      "text/plain": [
       "array([[11, 12, 13, 14, 15],\n",
       "       [16, 17, 18, 19, 20],\n",
       "       [21, 22, 23, 24, 25],\n",
       "       [26, 27, 28, 29, 30]])"
      ]
     },
     "execution_count": 34,
     "metadata": {},
     "output_type": "execute_result"
    }
   ],
   "source": [
    "# & means and while | means or\n",
    "\n",
    "arr2= arr1[(arr1>10) & (arr1 <31)]\n",
    "arr2.reshape((4, 5))"
   ]
  },
  {
   "cell_type": "code",
   "execution_count": 35,
   "id": "56f71c0d-2ddd-417d-83dc-1f4f07b124b5",
   "metadata": {},
   "outputs": [
    {
     "data": {
      "text/plain": [
       "20"
      ]
     },
     "execution_count": 35,
     "metadata": {},
     "output_type": "execute_result"
    }
   ],
   "source": [
    "arr2.size"
   ]
  },
  {
   "cell_type": "markdown",
   "id": "f89caecf-eb94-4803-81b1-85004f81c744",
   "metadata": {},
   "source": [
    "# Fancy indexing"
   ]
  },
  {
   "cell_type": "code",
   "execution_count": 44,
   "id": "1228c4cf-3c6b-4f9a-85c6-fc49972ba02b",
   "metadata": {},
   "outputs": [],
   "source": [
    "list1=[2, 4, 1]"
   ]
  },
  {
   "cell_type": "code",
   "execution_count": 45,
   "id": "a43563cb-751e-4ec0-affc-67d39353ff9b",
   "metadata": {},
   "outputs": [
    {
     "data": {
      "text/plain": [
       "array([[16, 17, 18, 19, 20, 21, 22, 23],\n",
       "       [32, 33, 34, 35, 36, 37, 38, 39],\n",
       "       [ 8,  9, 10, 11, 12, 13, 14, 15]])"
      ]
     },
     "execution_count": 45,
     "metadata": {},
     "output_type": "execute_result"
    }
   ],
   "source": [
    "arr1[list1]"
   ]
  },
  {
   "cell_type": "code",
   "execution_count": 48,
   "id": "7802a75c-f61d-470b-af37-d80f316f0fa2",
   "metadata": {},
   "outputs": [
    {
     "data": {
      "text/plain": [
       "array([[ 0,  1,  2,  3,  4,  5,  6,  7],\n",
       "       [99, 99, 99, 99, 99, 99, 99, 99],\n",
       "       [99, 99, 99, 99, 99, 99, 99, 99],\n",
       "       [24, 25, 26, 27, 28, 29, 30, 31],\n",
       "       [99, 99, 99, 99, 99, 99, 99, 99]])"
      ]
     },
     "execution_count": 48,
     "metadata": {},
     "output_type": "execute_result"
    }
   ],
   "source": [
    "arr1[list1] = 99\n",
    "arr1"
   ]
  },
  {
   "cell_type": "code",
   "execution_count": 49,
   "id": "f5b08e89-2f3d-44b9-bb9a-58112663a015",
   "metadata": {},
   "outputs": [
    {
     "data": {
      "text/plain": [
       "array([[False, False, False, False, False, False, False, False],\n",
       "       [ True,  True,  True,  True,  True,  True,  True,  True],\n",
       "       [ True,  True,  True,  True,  True,  True,  True,  True],\n",
       "       [False, False, False, False, False, False, False, False],\n",
       "       [ True,  True,  True,  True,  True,  True,  True,  True]])"
      ]
     },
     "execution_count": 49,
     "metadata": {},
     "output_type": "execute_result"
    }
   ],
   "source": [
    "arr1 == 99"
   ]
  },
  {
   "cell_type": "code",
   "execution_count": 51,
   "id": "fd2d745c-b17c-4221-951a-9bb56e60fa3d",
   "metadata": {},
   "outputs": [
    {
     "data": {
      "text/plain": [
       "array([99, 99, 99, 99, 99, 99, 99, 99, 99, 99, 99, 99, 99, 99, 99, 99, 99,\n",
       "       99, 99, 99, 99, 99, 99, 99])"
      ]
     },
     "execution_count": 51,
     "metadata": {},
     "output_type": "execute_result"
    }
   ],
   "source": [
    "arr1[arr1==99]"
   ]
  },
  {
   "cell_type": "markdown",
   "id": "b4a6eb98-c178-45d2-b724-d221f4f4ec4f",
   "metadata": {},
   "source": [
    "# Pandas series"
   ]
  },
  {
   "cell_type": "code",
   "execution_count": 58,
   "id": "af577d99-cf3d-4390-8cfc-c11b7e388611",
   "metadata": {},
   "outputs": [],
   "source": [
    "#importing pandas\n",
    "\n",
    "import pandas as pd"
   ]
  },
  {
   "cell_type": "code",
   "execution_count": 59,
   "id": "bc0cc1ba-e8ad-490d-ba6a-5f7258471c14",
   "metadata": {},
   "outputs": [],
   "source": [
    "names = [\"esther\", \"tochi\", \"amaka\", \"gift\", \"chalse\"]\n",
    "x = pd.Series(names)"
   ]
  },
  {
   "cell_type": "code",
   "execution_count": 60,
   "id": "30e5a80d-714d-47f3-9247-33a256ad7c01",
   "metadata": {},
   "outputs": [
    {
     "data": {
      "text/plain": [
       "numpy.ndarray"
      ]
     },
     "execution_count": 60,
     "metadata": {},
     "output_type": "execute_result"
    }
   ],
   "source": [
    "type(arr1)"
   ]
  },
  {
   "cell_type": "code",
   "execution_count": 61,
   "id": "9afc0a5c-6921-4eb7-b85d-363e31abba00",
   "metadata": {},
   "outputs": [
    {
     "data": {
      "text/plain": [
       "0    esther\n",
       "1     tochi\n",
       "2     amaka\n",
       "3      gift\n",
       "4    chalse\n",
       "dtype: object"
      ]
     },
     "execution_count": 61,
     "metadata": {},
     "output_type": "execute_result"
    }
   ],
   "source": [
    "x"
   ]
  },
  {
   "cell_type": "code",
   "execution_count": 63,
   "id": "363c651a-5475-4ed5-b7d0-c3cfe4a2918a",
   "metadata": {},
   "outputs": [],
   "source": [
    "# creating a series from a dictionary\n",
    "dict = {\"name\": \"Diana\",\n",
    "               \"age\": 22,\n",
    "               \"gender\": \"female\",\n",
    "               \"country\": \"Ghana\",\n",
    "               \"marital status\": \"single\",\n",
    "               \"City\": \"Accra\",\n",
    "               \"occupation\": \"data analyst\"}"
   ]
  },
  {
   "cell_type": "code",
   "execution_count": 67,
   "id": "b3d1e6f1-8aae-421b-8ee9-5e1b0712568d",
   "metadata": {},
   "outputs": [],
   "source": [
    "details = pd.Series(dict)"
   ]
  },
  {
   "cell_type": "code",
   "execution_count": 68,
   "id": "760b077a-28b8-48ec-a458-5a3dc026602f",
   "metadata": {},
   "outputs": [
    {
     "data": {
      "text/plain": [
       "name                     Diana\n",
       "age                         22\n",
       "gender                  female\n",
       "country                  Ghana\n",
       "marital status          single\n",
       "City                     Accra\n",
       "occupation        data analyst\n",
       "dtype: object"
      ]
     },
     "execution_count": 68,
     "metadata": {},
     "output_type": "execute_result"
    }
   ],
   "source": [
    "details"
   ]
  },
  {
   "cell_type": "code",
   "execution_count": null,
   "id": "f6208242-923d-41bd-a206-950b202a04bf",
   "metadata": {},
   "outputs": [],
   "source": []
  }
 ],
 "metadata": {
  "kernelspec": {
   "display_name": "Python 3 (ipykernel)",
   "language": "python",
   "name": "python3"
  },
  "language_info": {
   "codemirror_mode": {
    "name": "ipython",
    "version": 3
   },
   "file_extension": ".py",
   "mimetype": "text/x-python",
   "name": "python",
   "nbconvert_exporter": "python",
   "pygments_lexer": "ipython3",
   "version": "3.11.7"
  }
 },
 "nbformat": 4,
 "nbformat_minor": 5
}
